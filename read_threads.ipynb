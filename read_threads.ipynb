{
 "cells": [
  {
   "cell_type": "markdown",
   "id": "b02ff2f7",
   "metadata": {
    "pycharm": {
     "name": "#%% md\n"
    }
   },
   "source": [
    "# Approach and assumptions\n",
    "\n",
    "## Known issues & breaking assumptions\n",
    "- Assuming that thread info will always be spread across three columns\n",
    "    - Hardcoded column dimensions during initial parsing\n",
    "- Assuming that we only have one skein per thread color when filtering out extraneous rows\n",
    "    - TODO: Replace with a more nuanced filter that checks isDigit on the index + count startsWith(\"x \")\n"
   ]
  },
  {
   "cell_type": "code",
   "execution_count": 5,
   "id": "f1eeefb7",
   "metadata": {
    "pycharm": {
     "name": "#%%\n"
    }
   },
   "outputs": [],
   "source": [
    "import pandas as pd\n",
    "import pydash\n",
    "\n",
    "from embroidery.settings import PATTERNS_FOLDER_PATH\n",
    "\n",
    "# PAT1633.pdf\n",
    "# PAT1708.pdf\n",
    "# PAT1761.pdf\n",
    "\n",
    "file_path = f\"{PATTERNS_FOLDER_PATH}/PAT1633.pdf\""
   ]
  },
  {
   "cell_type": "code",
   "execution_count": 51,
   "id": "57d1ebf3",
   "metadata": {
    "pycharm": {
     "name": "#%%\n"
    }
   },
   "outputs": [],
   "source": [
    "import tabula\n",
    "\n",
    "top = 228\n",
    "left = 26\n",
    "bottom = top + 230\n",
    "right = left + 545\n",
    "\n",
    "column_1 = left + 54\n",
    "column_1_color_codes = column_1 + 57\n",
    "column_1_skein_count = column_1_color_codes + 75\n",
    "\n",
    "column_2 = column_1_skein_count + 52\n",
    "column_2_color_codes = column_2 + 50\n",
    "column_2_skein_count = column_2_color_codes + 73\n",
    "\n",
    "column_3 = column_2_skein_count + 55\n",
    "column_3_color_codes = column_3 + 50\n",
    "column_3_skein_count = column_3_color_codes + 76\n",
    "\n",
    "df = tabula.read_pdf(\n",
    "    file_path,\n",
    "    guess=False,\n",
    "    pages=3,\n",
    "    stream=True,\n",
    "#     area=[top, left, bottom, right],\n",
    "    columns=[\n",
    "        column_1, column_1_color_codes, column_1_skein_count, \n",
    "        column_2, column_2_color_codes, column_2_skein_count, \n",
    "        column_3, column_3_color_codes,# column_3_skein_count\n",
    "    ],\n",
    "    pandas_options={'header': None}\n",
    ")\n",
    "\n",
    "df_ = df[0]"
   ]
  },
  {
   "cell_type": "code",
   "execution_count": 1,
   "id": "fd68ce1a",
   "metadata": {
    "pycharm": {
     "name": "#%%\n"
    }
   },
   "outputs": [
    {
     "ename": "NameError",
     "evalue": "name 'pd' is not defined",
     "output_type": "error",
     "traceback": [
      "\u001B[0;31m---------------------------------------------------------------------------\u001B[0m",
      "\u001B[0;31mNameError\u001B[0m                                 Traceback (most recent call last)",
      "Cell \u001B[0;32mIn[1], line 1\u001B[0m\n\u001B[0;32m----> 1\u001B[0m reindexed \u001B[38;5;241m=\u001B[39m \u001B[43mpd\u001B[49m\u001B[38;5;241m.\u001B[39mDataFrame()\n\u001B[1;32m      3\u001B[0m (_, cols_len) \u001B[38;5;241m=\u001B[39m df_\u001B[38;5;241m.\u001B[39mshape\n\u001B[1;32m      6\u001B[0m \u001B[38;5;28;01mfor\u001B[39;00m i \u001B[38;5;129;01min\u001B[39;00m \u001B[38;5;28mrange\u001B[39m(\u001B[38;5;241m0\u001B[39m, cols_len\u001B[38;5;241m-\u001B[39m\u001B[38;5;241m6\u001B[39m, \u001B[38;5;241m3\u001B[39m):\n",
      "\u001B[0;31mNameError\u001B[0m: name 'pd' is not defined"
     ]
    }
   ],
   "source": [
    "reindexed = pd.DataFrame()\n",
    "\n",
    "(_, cols_len) = df_.shape\n",
    "\n",
    "\n",
    "for i in range(0, cols_len-6, 3):\n",
    "    sub = df_.iloc[:, i:i+3].rename(columns={i: \"id\", i+1: \"code\", i+2: \"count\"})# .set_index(\"id\")\n",
    "    d = sub.to_dict(\"records\")\n",
    "    # d = pydash.filter_(d, lambda x: x[\"id\"].isdigit())"
   ]
  },
  {
   "cell_type": "code",
   "execution_count": 56,
   "id": "f9e2e876",
   "metadata": {
    "pycharm": {
     "name": "#%%\n"
    }
   },
   "outputs": [
    {
     "name": "stdout",
     "output_type": "stream",
     "text": [
      "tool kit / fournitures \n",
      "needle / aiguille (no.12)\n",
      "dmc mouliné special art 117\n",
      "fabric / toile*\n",
      "magic sheet or transfer pen / feuille magique ou stylo transfert\n",
      "x 1\n",
      "x 1\n",
      "x 1\n",
      "x 1x 1\n",
      "x 1\n",
      "x 1\n",
      "x 1x 1\n",
      "x 1310\n",
      "3865\n",
      "3024\n",
      "5201\n",
      "2\n",
      "3\n",
      "45\n",
      "6\n",
      "7\n",
      "83362\n",
      "3348\n",
      "930\n",
      "606608\n",
      "37559\n",
      "10code nº\n",
      "code nºcode nº\n",
      "code nºcode nº\n",
      "code nºcolour\n",
      "couleurcolour\n",
      "couleurcolour\n",
      "couleurnº skeins*\n",
      "no d’échevettes*nº skeins*\n",
      "no d’échevettes*nº skeins*\n",
      "no d’échevettes*colour / couleurs\n",
      "French knot / Point de noeudStem stitch / Point de tige Satin stitch / Passé platcode letter\n",
      "lettre\n",
      "code letter\n",
      "lettrecode letter\n",
      "lettre\n",
      "code letter\n",
      "lettrecode letter\n",
      "lettre\n",
      "code letter\n",
      "lettreA\n",
      "DB\n",
      "EC\n",
      "Fstitches / points\n",
      "Split stitch / Point fendu\n",
      "Fishbone stitch  / Point d’arêteA\n",
      "B\n",
      "C\n",
      "Buillion stitch / Point de postBB\n",
      "AAchristmas clementine wreath\n",
      "couronne de clémentine de noël\n",
      "instructionswww.dmc.com © 2021  / all rights reserved worldwide dmc library - bibliothèque dmc\n",
      "3/6More free patterns and tutorials  /  Diagrammes, motifs et tutoriels  /  www.dmc.com\n",
      "Join our community   /  Rejoignez notre communauté  / facebook - pinterest - instagram - youtube\n",
      "Share your creations   /   Partagez vos créations   /  #dmcthreads  /  #dmcembroidery  /  #dmcfreepatternsuse 4 strands\n",
      "utiliser 4 brins*Number of skeins calculated for design size 17cm x 17cm   \n",
      "  Nombre d’échevettes calculé pour un dessin de 17cm x 17cm\n"
     ]
    }
   ],
   "source": [
    "from PyPDF2 import PdfReader\n",
    "\n",
    "reader = PdfReader(file_path)\n",
    "page = reader.pages[2]\n",
    "raw_text = page.extract_text()\n",
    "raw_text.count(\"x \")\n",
    "print(raw_text)"
   ]
  }
 ],
 "metadata": {
  "kernelspec": {
   "display_name": "Python 3 (ipykernel)",
   "language": "python",
   "name": "python3"
  },
  "language_info": {
   "codemirror_mode": {
    "name": "ipython",
    "version": 3
   },
   "file_extension": ".py",
   "mimetype": "text/x-python",
   "name": "python",
   "nbconvert_exporter": "python",
   "pygments_lexer": "ipython3",
   "version": "3.11.2"
  }
 },
 "nbformat": 4,
 "nbformat_minor": 5
}